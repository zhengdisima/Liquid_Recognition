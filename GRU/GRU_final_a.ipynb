{
 "cells": [
  {
   "cell_type": "code",
   "execution_count": 12,
   "id": "1f2e1629-8c9a-4166-8e9a-2ea62ca42ab7",
   "metadata": {},
   "outputs": [],
   "source": [
    "import os\n",
    "os.environ['CUDA_LAUNCH_BLOCKING'] = \"1\""
   ]
  },
  {
   "cell_type": "code",
   "execution_count": 13,
   "id": "580187ba-bcd1-497b-8a62-24088ae372c0",
   "metadata": {},
   "outputs": [],
   "source": [
    "import torch\n",
    "from torch.utils.data import DataLoader, Dataset\n",
    "import pandas as pd\n",
    "from sklearn.preprocessing import StandardScaler\n",
    "from torch import nn\n",
    "from torch.nn.utils.rnn import pack_padded_sequence, pad_packed_sequence, pad_sequence\n",
    "from sklearn.metrics import confusion_matrix"
   ]
  },
  {
   "cell_type": "code",
   "execution_count": 14,
   "id": "a7debe4c-0a18-4f6c-a2f3-c2f15a540195",
   "metadata": {},
   "outputs": [],
   "source": [
    "class ChemicalDataset(Dataset):\n",
    "    def __init__(self, root_dir, train=True):\n",
    "        self.data = []\n",
    "        self.labels = []\n",
    "        self.lengths = []\n",
    "        self.label_dict = {name: i for i, name in enumerate(os.listdir(root_dir))}\n",
    "    \n",
    "        for label, dir_name in enumerate(sorted(os.listdir(root_dir))):\n",
    "            folder_path = os.path.join(root_dir, dir_name)\n",
    "            files = sorted(os.listdir(folder_path))\n",
    "            files = files[:40] if train else files[40:50]\n",
    "            for file in files:\n",
    "                file_path = os.path.join(folder_path, file)\n",
    "                try:\n",
    "                    df = pd.read_csv(file_path)\n",
    "                    data = df[['Voltage.1', 'Voltage.2']].values\n",
    "                    if pd.isnull(data).any():\n",
    "                        continue  # Skip files with missing data\n",
    "                    self.data.append(data)\n",
    "                    self.labels.append(label)\n",
    "                    self.lengths.append(len(data))\n",
    "                except Exception as e:\n",
    "                    print(f\"Error loading {file_path}: {e}\")\n",
    "    \n",
    "    def __len__(self):\n",
    "        return len(self.data)\n",
    "\n",
    "    def __getitem__(self, idx):\n",
    "        data = self.data[idx]\n",
    "        label = self.labels[idx]\n",
    "        length = self.lengths[idx]\n",
    "        return data, label, length"
   ]
  },
  {
   "cell_type": "code",
   "execution_count": 15,
   "id": "3b50ffd7-3179-43b4-b271-31c13b9631b3",
   "metadata": {},
   "outputs": [],
   "source": [
    "def collate_fn(batch):\n",
    "    batch.sort(key=lambda x: x[2], reverse=True)  \n",
    "    sequences, labels, lengths = zip(*batch)\n",
    "    sequences_padded = pad_sequence([torch.tensor(s, dtype=torch.float32) for s in sequences], batch_first=True)\n",
    "    \n",
    "    return sequences_padded, torch.tensor(labels, dtype=torch.long), torch.tensor(lengths, dtype=torch.long)\n"
   ]
  },
  {
   "cell_type": "code",
   "execution_count": 16,
   "id": "ce1a3586-04aa-4aa0-ac6a-6390d697d9f5",
   "metadata": {},
   "outputs": [],
   "source": [
    "from sklearn.metrics import precision_score, recall_score, f1_score\n",
    "\n",
    "def test_model(model, device, test_loader):\n",
    "    model.eval()  \n",
    "    correct = 0\n",
    "    total = 0\n",
    "    all_labels = []\n",
    "    all_predictions = []\n",
    "\n",
    "    with torch.no_grad():  \n",
    "        for inputs, labels, lengths in test_loader:\n",
    "            inputs, labels = inputs.to(device), labels.to(device)\n",
    "            outputs = model(inputs, lengths)  \n",
    "            _, predicted = torch.max(outputs.data, 1)  \n",
    "            \n",
    "            all_labels.extend(labels.cpu().numpy())\n",
    "            all_predictions.extend(predicted.cpu().numpy())\n",
    "            \n",
    "            total += labels.size(0)\n",
    "            correct += (predicted == labels).sum().item()\n",
    "\n",
    "    accuracy = 100 * correct / total\n",
    "    \n",
    "    cm = confusion_matrix(all_labels, all_predictions)\n",
    "    \n",
    "    print(f'Accuracy on the test set: {accuracy:.2f}%')\n",
    "    print(f'Confusion Matrix:\\n{cm}')\n",
    "    \n",
    "    return accuracy, cm"
   ]
  },
  {
   "cell_type": "code",
   "execution_count": 17,
   "id": "0cee69ea-cb0d-4a02-a9ef-d1a964412f93",
   "metadata": {},
   "outputs": [],
   "source": [
    "train_dataset = ChemicalDataset(root_dir='./split_data3/', train=True)\n",
    "train_loader = DataLoader(dataset=train_dataset, batch_size=64, shuffle=True, collate_fn=collate_fn)\n",
    "test_dataset = ChemicalDataset(root_dir='./split_data3/', train=False)\n",
    "test_loader = DataLoader(dataset=test_dataset, batch_size=64, shuffle=False, collate_fn=collate_fn)\n"
   ]
  },
  {
   "cell_type": "code",
   "execution_count": 18,
   "id": "d79e925e-1ac2-4925-8cb5-1ba9cf193d69",
   "metadata": {},
   "outputs": [],
   "source": [
    "class GRUModel(nn.Module):\n",
    "    def __init__(self, input_size, hidden_size, num_layers, num_classes):\n",
    "        super(GRUModel, self).__init__()\n",
    "        self.gru = nn.GRU(input_size, hidden_size, num_layers, batch_first=True)\n",
    "        self.fc = nn.Linear(hidden_size, num_classes)\n",
    "\n",
    "    def forward(self, x, lengths):\n",
    "        packed = pack_padded_sequence(x, lengths.cpu(), batch_first=True)\n",
    "        packed_output, _ = self.gru(packed)\n",
    "        output, output_lengths = pad_packed_sequence(packed_output, batch_first=True)\n",
    "        # Ensure the index is within bounds\n",
    "        idx = (output_lengths - 1).view(-1, 1).clamp(min=0).expand(len(output_lengths), output.size(2))\n",
    "        idx = idx.unsqueeze(1).to(device)\n",
    "        last_output = output.gather(1, idx).squeeze(1)\n",
    "        out = self.fc(last_output)\n",
    "        return out"
   ]
  },
  {
   "cell_type": "code",
   "execution_count": 19,
   "id": "f01190a2-b250-4ba9-bcda-e366131a261a",
   "metadata": {},
   "outputs": [
    {
     "name": "stdout",
     "output_type": "stream",
     "text": [
      "Device: cuda\n"
     ]
    }
   ],
   "source": [
    "device = torch.device('cuda' if torch.cuda.is_available() else 'cpu')\n",
    "print(\"Device:\", device)"
   ]
  },
  {
   "cell_type": "code",
   "execution_count": 20,
   "id": "d5bf79d4-3749-43f7-9acf-4868d33149a5",
   "metadata": {},
   "outputs": [],
   "source": [
    "def Pill_drilling(num_epochs, learning_rate, input_size, hidden_size, num_layers, num_classes):\n",
    "    device = torch.device('cuda' if torch.cuda.is_available() else 'cpu')\n",
    "    print(\"Device:\", device)\n",
    "    \n",
    "    model = GRUModel(input_size=input_size, hidden_size=hidden_size, num_layers=num_layers, num_classes=num_classes).to(device)\n",
    "    criterion = nn.CrossEntropyLoss()\n",
    "    optimizer = torch.optim.Adam(model.parameters(), lr=learning_rate)\n",
    "\n",
    "    for epoch in range(num_epochs):\n",
    "        for inputs, labels, lengths in train_loader:\n",
    "            inputs, labels = inputs.to(device), labels.to(device)\n",
    "            outputs = model(inputs, lengths)\n",
    "            loss = criterion(outputs, labels)\n",
    "            \n",
    "            optimizer.zero_grad()\n",
    "            loss.backward()\n",
    "            optimizer.step()\n",
    "\n",
    "        if epoch % 10 == 0:\n",
    "            print(f'Epoch [{epoch+1}/{num_epochs}], Loss: {loss.item():.4f}')\n",
    "\n",
    "    accuracy, cm = test_model(model, device, test_loader)\n",
    "    \n",
    "    with open(log_file_path, 'a') as log_file:\n",
    "        log_file.write(\"****************************************\\n\")\n",
    "        log_file.write(f\"Input_size:{input_size}, Learning_rate:{learning_rate}, hidden_size:{hidden_size}, num_layers:{num_layers}, num_classes:{num_classes}\\n\")\n",
    "        log_file.write(f\"Accuracy on the test set: {accuracy:.2f}%\\n\")\n",
    "        log_file.write(f\"Confusion Matrix:\\n{cm}\\n\")\n",
    "        log_file.write(\"****************************************\\n\")\n",
    "    \n",
    "    return True\n"
   ]
  },
  {
   "cell_type": "code",
   "execution_count": 21,
   "id": "af7fcf58-aaf3-4f47-80a8-8f9343962d7f",
   "metadata": {},
   "outputs": [
    {
     "name": "stdout",
     "output_type": "stream",
     
    {
     "data": {
      "text/plain": [
       "True"
      ]
     },
     "execution_count": 21,
     "metadata": {},
     "output_type": "execute_result"
    }
   ],
   "source": [
    "log_file_path = \"test_accuracy.log\"\n",
    "Pill_drilling(300, 0.0003, 2, 256, 4, 10)"
   ]
  },
  {
   "cell_type": "code",
   "execution_count": null,
   "id": "c75d221c-d239-4804-b58b-5942e4916e30",
   "metadata": {},
   "outputs": [],
   "source": []
  }
 ],
 "metadata": {
  "kernelspec": {
   "display_name": "Python [conda env:base] *",
   "language": "python",
   "name": "conda-base-py"
  },
  "language_info": {
   "codemirror_mode": {
    "name": "ipython",
    "version": 3
   },
   "file_extension": ".py",
   "mimetype": "text/x-python",
   "name": "python",
   "nbconvert_exporter": "python",
   "pygments_lexer": "ipython3",
   "version": "3.12.7"
  }
 },
 "nbformat": 4,
 "nbformat_minor": 5
}
